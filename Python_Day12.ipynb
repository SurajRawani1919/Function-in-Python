{
 "cells": [
  {
   "cell_type": "code",
   "execution_count": 3,
   "id": "4d8237b9-bd56-45b2-9076-cbae7a6b2e60",
   "metadata": {},
   "outputs": [
    {
     "name": "stdout",
     "output_type": "stream",
     "text": [
      "hey my name is suraj\n"
     ]
    }
   ],
   "source": [
    "#function \n",
    "#resuability and reducing the repetive efforts \n",
    "\n",
    "#def keyward ------forms the structure of function \n",
    "#def function (arguments):\n",
    "    #code_to_execute\n",
    "\n",
    "def print_name(name):\n",
    "    print(f\"hey my name is {name}\")\n",
    "print_name(\"suraj\")"
   ]
  },
  {
   "cell_type": "code",
   "execution_count": 4,
   "id": "a7e05b52-fd4b-4d91-9fec-7c9629076eb5",
   "metadata": {},
   "outputs": [
    {
     "name": "stdout",
     "output_type": "stream",
     "text": [
      "hey my name is suraj singh\n"
     ]
    }
   ],
   "source": [
    "def print_name(name,title):\n",
    "    print(f\"hey my name is {name} {title}\")\n",
    "print_name(\"suraj\",\"singh\")"
   ]
  },
  {
   "cell_type": "code",
   "execution_count": 6,
   "id": "0eeb14ae-da8a-4fa6-8e95-6165e48f6b21",
   "metadata": {},
   "outputs": [
    {
     "name": "stdout",
     "output_type": "stream",
     "text": [
      "Even Number: 0\n",
      "Even Number: 2\n",
      "Even Number: 4\n",
      "Even Number: 6\n",
      "Even Number: 8\n",
      "Even Number: 10\n",
      "Even Number: 12\n",
      "Even Number: 14\n",
      "Even Number: 16\n",
      "Even Number: 18\n",
      "Even Number: 20\n",
      "Even Number: 22\n",
      "Even Number: 24\n",
      "Even Number: 26\n",
      "Even Number: 28\n",
      "Even Number: 30\n",
      "Even Number: 32\n",
      "Even Number: 34\n",
      "Even Number: 36\n",
      "Even Number: 38\n",
      "Even Number: 40\n",
      "Even Number: 42\n",
      "Even Number: 44\n",
      "Even Number: 46\n",
      "Even Number: 48\n"
     ]
    }
   ],
   "source": [
    "def even_number(num):\n",
    "    for i in range(num):  \n",
    "        if i % 2 == 0:\n",
    "            print(f'Even Number: {i}')\n",
    "\n",
    "even_number(50)\n"
   ]
  },
  {
   "cell_type": "code",
   "execution_count": 2,
   "id": "49a8fd64-fc65-4474-ad5e-93991962ba1d",
   "metadata": {},
   "outputs": [
    {
     "data": {
      "text/plain": [
       "5"
      ]
     },
     "execution_count": 2,
     "metadata": {},
     "output_type": "execute_result"
    }
   ],
   "source": [
    "#return \n",
    "#will return the value specified after it \n",
    "#can only be used inside the function \n",
    "#will send the cursor back to where the function was defined \n",
    "def add(a,b):\n",
    "    return a+b\n",
    "add(2,3)\n",
    "\n"
   ]
  },
  {
   "cell_type": "code",
   "execution_count": 14,
   "id": "88e8f439-2f24-4816-8c5e-c47f19f6997a",
   "metadata": {},
   "outputs": [
    {
     "data": {
      "text/plain": [
       "1"
      ]
     },
     "execution_count": 14,
     "metadata": {},
     "output_type": "execute_result"
    }
   ],
   "source": [
    "def sub(a,b):\n",
    "    return a-b\n",
    "sub(6,7)\n",
    "sub(7,6)"
   ]
  },
  {
   "cell_type": "code",
   "execution_count": 9,
   "id": "6e85ebe4-a4b6-4166-8153-e24198546faa",
   "metadata": {},
   "outputs": [
    {
     "data": {
      "text/plain": [
       "15"
      ]
     },
     "execution_count": 9,
     "metadata": {},
     "output_type": "execute_result"
    }
   ],
   "source": [
    "#types of arguments \n",
    "#1. positional arguments\n",
    "#2. keyward arguments\n",
    "#3. default arguments\n",
    "#4. varibale lenghth arguments\n",
    "    #positionl variable length\n",
    "    #keyward variable length\n",
    "\n",
    "#1.positional arguments :we do not need to give the variable only the value is passed \n",
    "def multiply(a,b):\n",
    "    return a*b\n",
    "multiply(3,5)"
   ]
  },
  {
   "cell_type": "code",
   "execution_count": 10,
   "id": "eab8ce64-9433-4fd5-8eab-d955bd7d6631",
   "metadata": {},
   "outputs": [
    {
     "name": "stdout",
     "output_type": "stream",
     "text": [
      "hello,suraj\n"
     ]
    }
   ],
   "source": [
    "#2.keyward arguments : the name of the variable is passed along with the values \n",
    "\n",
    "def greet(greetings,name):\n",
    "    print(f'{greetings},{name}')\n",
    "greet(greetings=\"hello\",name=\"suraj\")"
   ]
  },
  {
   "cell_type": "code",
   "execution_count": 11,
   "id": "fbdb590d-d003-4254-99a2-5a69f1e40bde",
   "metadata": {},
   "outputs": [
    {
     "name": "stdout",
     "output_type": "stream",
     "text": [
      "hello,suraj\n"
     ]
    }
   ],
   "source": [
    "greet(name=\"suraj\",greetings=\"hello\")"
   ]
  },
  {
   "cell_type": "code",
   "execution_count": 16,
   "id": "ab2e3195-b7d6-4fe5-8c7e-c759a9498579",
   "metadata": {},
   "outputs": [
    {
     "name": "stdout",
     "output_type": "stream",
     "text": [
      "Hey!! Suraj\n"
     ]
    }
   ],
   "source": [
    "#default arguments \n",
    "#when the value of function is set when the function is defined Sura\n",
    "\n",
    "def greet (name,greetings='Hey!!'):\n",
    "    print(f'{greetings} {name}')\n",
    "greet('Suraj')"
   ]
  },
  {
   "cell_type": "code",
   "execution_count": 17,
   "id": "76ffb385-7fe6-4d03-8448-a7ccd195a4aa",
   "metadata": {},
   "outputs": [
    {
     "data": {
      "text/plain": [
       "14"
      ]
     },
     "execution_count": 17,
     "metadata": {},
     "output_type": "execute_result"
    }
   ],
   "source": [
    "#variable length arguments\n",
    "#no fix length \n",
    "\n",
    "#1. positional variable length \n",
    "def addition(*numbers):\n",
    "    return sum(numbers)\n",
    "addition(2,3,4,5)"
   ]
  },
  {
   "cell_type": "code",
   "execution_count": 5,
   "id": "0777bb74-174c-47e2-9cd9-8b0893e41a1e",
   "metadata": {},
   "outputs": [
    {
     "name": "stdout",
     "output_type": "stream",
     "text": [
      "name: suraj\n",
      "surname: singh\n"
     ]
    }
   ],
   "source": [
    "#2.keyward variable length\n",
    "def information(**info):\n",
    "    for key, value in info.items():\n",
    "        print (f\"{key}: {value}\")\n",
    "\n",
    "information(name='suraj', surname='singh')\n"
   ]
  },
  {
   "cell_type": "code",
   "execution_count": null,
   "id": "1f35e225-a5ff-4960-9d8d-aa027148866f",
   "metadata": {},
   "outputs": [],
   "source": []
  },
  {
   "cell_type": "code",
   "execution_count": null,
   "id": "de6f9d21-0d98-4a1e-a9ef-87a75b1ac268",
   "metadata": {},
   "outputs": [],
   "source": []
  }
 ],
 "metadata": {
  "kernelspec": {
   "display_name": "Python 3 (ipykernel)",
   "language": "python",
   "name": "python3"
  },
  "language_info": {
   "codemirror_mode": {
    "name": "ipython",
    "version": 3
   },
   "file_extension": ".py",
   "mimetype": "text/x-python",
   "name": "python",
   "nbconvert_exporter": "python",
   "pygments_lexer": "ipython3",
   "version": "3.10.11"
  }
 },
 "nbformat": 4,
 "nbformat_minor": 5
}
